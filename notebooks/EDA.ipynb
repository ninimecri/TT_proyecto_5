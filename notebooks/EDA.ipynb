{
 "cells": [
  {
   "cell_type": "code",
   "execution_count": null,
   "metadata": {},
   "outputs": [],
   "source": [
    "import pandas as pd\n",
    "import plotly.express as px\n",
    "\n",
    "car_data = pd.read_csv('vehicles_us.csv') # leer los datos\n",
    "fig = px.histogram(car_data, x=\"odometer\") # crear un histograma\n",
    "fig.show() # crear gráfico de dispersión"
   ]
  },
  {
   "cell_type": "code",
   "execution_count": null,
   "metadata": {},
   "outputs": [],
   "source": [
    "car_data.head()\n",
    "\n",
    "# Botón para generar el histograma\n",
    "if st.button('Mostrar Histograma'):\n",
    "\n",
    "    st.write(\"Histograma de la columna 'Price'\")\n",
    "    fig = px.histogram(car_data, x='Model', nbins=5) ## MODEL OR CONDITION\n",
    "    st.plotly_chart(fig)\n",
    "\n",
    "# Botón para generar el gráfico de dispersión\n",
    "if st.button('Mostrar Gráfico de Dispersión'):\n",
    "\n",
    "    st.write(\"Gráfico de dispersión de 'x' contra 'y'\")\n",
    "    fig = px.scatter(car_data, x='Model', y='Price')\n",
    "    st.plotly_chart(fig)\n",
    "\n",
    "st.write(\"### Desafío Extra: Generar Gráficos con Casillas de Verificación\")\n",
    "\n",
    "# Casilla de verificación para el histograma\n",
    "if st.checkbox('Generar Histograma'):\n",
    "    st.write(\"Histograma de la columna 'x'\")\n",
    "    fig = px.histogram(car_data, x='x', nbins=5, title='Histograma de X')\n",
    "    st.plotly_chart(fig)"
   ]
  }
 ],
 "metadata": {
  "language_info": {
   "name": "python"
  }
 },
 "nbformat": 4,
 "nbformat_minor": 2
}
